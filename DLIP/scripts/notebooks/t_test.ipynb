{
 "cells": [
  {
   "cell_type": "code",
   "execution_count": 62,
   "metadata": {},
   "outputs": [
    {
     "name": "stdout",
     "output_type": "stream",
     "text": [
      "0.8889022844519712 [0.89216611 0.95102853 0.87510559 0.8650205  0.86119069]\n",
      "0.940415274291985 [0.9456079  0.95206815 0.92484937 0.95055402 0.92899694]\n",
      "Ttest_indResult(statistic=-2.9649349213376586, pvalue=0.009004961496641742)\n"
     ]
    }
   ],
   "source": [
    "from scipy.stats import ttest_ind \n",
    "import numpy as np\n",
    "\n",
    "sota = np.random.normal(0.9, 0.025, 5)\n",
    "ssl = np.random.normal(0.95, 0.025, 5)\n",
    "\n",
    "print(sota.mean(), sota)\n",
    "print(ssl.mean(), ssl)\n",
    "\n",
    "res = ttest_ind(sota, ssl, alternative='less')\n",
    "\n",
    "print(res)"
   ]
  }
 ],
 "metadata": {
  "kernelspec": {
   "display_name": "Python 3.8.5 ('env_ssl')",
   "language": "python",
   "name": "python3"
  },
  "language_info": {
   "codemirror_mode": {
    "name": "ipython",
    "version": 3
   },
   "file_extension": ".py",
   "mimetype": "text/x-python",
   "name": "python",
   "nbconvert_exporter": "python",
   "pygments_lexer": "ipython3",
   "version": "3.8.5"
  },
  "orig_nbformat": 4,
  "vscode": {
   "interpreter": {
    "hash": "3298e2427ed63feee4f4a06a2d5348cc1989f8baefc155c05a0dff79a48dec30"
   }
  }
 },
 "nbformat": 4,
 "nbformat_minor": 2
}
